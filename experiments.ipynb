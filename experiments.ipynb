{
 "cells": [
  {
   "cell_type": "code",
   "execution_count": 37,
   "metadata": {},
   "outputs": [],
   "source": [
    "from kaggle_environments import make, evaluate\n",
    "\n",
    "# Setup a tictactoe environment.\n",
    "env = make(\"rps\")"
   ]
  },
  {
   "cell_type": "code",
   "execution_count": 12,
   "metadata": {},
   "outputs": [
    {
     "data": {
      "text/plain": [
       "{'rock': <function kaggle_environments.envs.rps.agents.rock(observation, configuration)>,\n",
       " 'paper': <function kaggle_environments.envs.rps.agents.paper(observation, configuration)>,\n",
       " 'scissors': <function kaggle_environments.envs.rps.agents.scissors(observation, configuration)>,\n",
       " 'copy_opponent': <function kaggle_environments.envs.rps.agents.copy_opponent(observation, configuration)>,\n",
       " 'reactionary': <function kaggle_environments.envs.rps.agents.reactionary(observation, configuration)>,\n",
       " 'counter_reactionary': <function kaggle_environments.envs.rps.agents.counter_reactionary(observation, configuration)>,\n",
       " 'statistical': <function kaggle_environments.envs.rps.agents.statistical(observation, configuration)>}"
      ]
     },
     "execution_count": 12,
     "metadata": {},
     "output_type": "execute_result"
    }
   ],
   "source": [
    "env.agents"
   ]
  },
  {
   "cell_type": "code",
   "execution_count": 58,
   "metadata": {},
   "outputs": [
    {
     "data": {
      "text/plain": [
       "[[43.0, -43.0]]"
      ]
     },
     "execution_count": 58,
     "metadata": {},
     "output_type": "execute_result"
    }
   ],
   "source": [
    "evaluate(\"rps\", [\"random_agent.py\", \"reactionary\"], configuration={\"episodeSteps\": 1000})"
   ]
  }
 ],
 "metadata": {
  "kernelspec": {
   "display_name": "Python 3",
   "language": "python",
   "name": "python3"
  },
  "language_info": {
   "codemirror_mode": {
    "name": "ipython",
    "version": 3
   },
   "file_extension": ".py",
   "mimetype": "text/x-python",
   "name": "python",
   "nbconvert_exporter": "python",
   "pygments_lexer": "ipython3",
   "version": "3.7.8"
  }
 },
 "nbformat": 4,
 "nbformat_minor": 4
}
